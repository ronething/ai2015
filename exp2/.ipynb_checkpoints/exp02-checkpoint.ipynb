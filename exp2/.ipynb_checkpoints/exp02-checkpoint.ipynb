{
 "cells": [
  {
   "cell_type": "markdown",
   "metadata": {},
   "source": [
    "实验要求：以在线社区的留言板为例，运用朴素贝叶斯算法，对文本自动分类。"
   ]
  },
  {
   "cell_type": "code",
   "execution_count": 3,
   "metadata": {},
   "outputs": [],
   "source": [
    "#!/usr/bin/env python3\n",
    "# -*- coding: utf-8 -*-\n",
    "\"\"\"\n",
    "Created on Sat Apr 28 20:34:24 2018\n",
    "\n",
    "@author: ronething\n",
    "\"\"\"\n",
    "\n",
    "from numpy import *\n",
    "\n",
    "def loadDataSet():\n",
    "    postingList = [['my', 'dog', 'has', 'flea', 'problems', 'help', 'please'],\n",
    "                 \t\t\t['maybe', 'not', 'take', 'him', 'to', 'dog', 'park', 'stupid'],\n",
    "                \t\t\t['my', 'dalmation', 'is', 'so', 'cute', 'I', 'love', 'him'],\n",
    "                 \t\t\t['stop', 'posting', 'stupid', 'worthless', 'garbage'],\n",
    "                 \t\t\t['mr', 'licks', 'ate', 'my', 'steak', 'how', 'to', 'stop', 'him'],\n",
    "                 \t\t\t['quit', 'buying', 'worthless', 'dog', 'food', 'stupid']]\n",
    "    classVec = [0,1,0,1,0,1] #1表示侮辱性0表示正常\n",
    "    return postingList,classVec\n",
    "\n",
    "def createVocabList(dataSet):\n",
    "    vocabSet = set([])\n",
    "    for document in dataSet:\n",
    "        vocabSet = vocabSet | set(document)\n",
    "    return list(vocabSet)\n",
    "\n",
    "def setOfWords2Vec(vocabList,inputSet):\n",
    "    returnVec = zeros(len(vocabList))\n",
    "    for word in inputSet:\n",
    "        if word in vocabList:\n",
    "            returnVec[vocabList.index(word)] = 1\n",
    "        else:\n",
    "            print('the word:%s is not in my Vocabulary!'% word)\n",
    "    \n",
    "    return returnVec #返回全为0和1的向量\n"
   ]
  },
  {
   "cell_type": "code",
   "execution_count": 5,
   "metadata": {},
   "outputs": [],
   "source": [
    "# trainNB1 返回每个类别的条件概率 classifyNB sum(vec2Classify*p1Vec) 算出log(p(w|ci))\n",
    "def trainNB1(trainMatrix,trainCategory):\n",
    "    numTrainDocs=len(trainMatrix)\n",
    "    numWord=len(trainMatrix[0])\n",
    "    pAbusive=sum(trainCategory)/len(trainCategory)\n",
    "    p0Num=ones(numWord);p1Num=ones(numWord)# 初始化为1\n",
    "    p0Demon=2;p1Demon=2 #初始化为2\n",
    "    for i in range(numTrainDocs):\n",
    "        if trainCategory[i]==0:\n",
    "            p0Num+=trainMatrix[i]\n",
    "            p0Demon+=sum(trainMatrix[i])\n",
    "        else:\n",
    "            p1Num+=trainMatrix[i]\n",
    "            p1Demon+=sum(trainMatrix[i])\n",
    "    p0Vec=log(p0Num/p0Demon) #对结果求对数\n",
    "    p1Vec=log(p1Num/p1Demon) #对结果求自然对数\n",
    "    return p0Vec,p1Vec,pAbusive\n",
    "\n",
    "def classifyNB(vec2Classify,p0Vec,p1Vec,pClass1):\n",
    "    p1 = sum(vec2Classify*p1Vec)+log(pClass1)\n",
    "    p0 = sum(vec2Classify*p0Vec)+log(1-pClass1)\n",
    "    if p1>p0:\n",
    "        return 1\n",
    "    else:\n",
    "        return 0"
   ]
  },
  {
   "cell_type": "code",
   "execution_count": 4,
   "metadata": {},
   "outputs": [
    {
     "name": "stdout",
     "output_type": "stream",
     "text": [
      "['love', 'my', 'dalmation'] classified as: 0\n",
      "['stupid', 'garbage'] classified as: 1\n"
     ]
    }
   ],
   "source": [
    "# 测试函数\n",
    "def testingNB():\n",
    "    listPosts,listClasses = loadDataSet()\n",
    "    myVocabList = createVocabList(listPosts)\n",
    "    trainMat = []\n",
    "    for postinDoc in listPosts:\n",
    "        trainMat.append(setOfWords2Vec(myVocabList,postinDoc))\n",
    "    p0V,p1V,pAb = trainNB1(trainMat,listClasses)\n",
    "    testEntry = ['love','my','dalmation']\n",
    "    thisDoc = array(setOfWords2Vec(myVocabList,testEntry))\n",
    "    print(testEntry,'classified as:',classifyNB(thisDoc,p0V,p1V,pAb))\n",
    "    testEntry = ['stupid','garbage']\n",
    "    thisDoc = array(setOfWords2Vec(myVocabList,testEntry))\n",
    "    print(testEntry,'classified as:',classifyNB(thisDoc,p0V,p1V,pAb))\n",
    "    \n",
    "if __name__==\"__main__\":\n",
    "    testingNB()"
   ]
  }
 ],
 "metadata": {
  "kernelspec": {
   "display_name": "Python 3",
   "language": "python",
   "name": "python3"
  },
  "language_info": {
   "codemirror_mode": {
    "name": "ipython",
    "version": 3
   },
   "file_extension": ".py",
   "mimetype": "text/x-python",
   "name": "python",
   "nbconvert_exporter": "python",
   "pygments_lexer": "ipython3",
   "version": "3.6.4"
  }
 },
 "nbformat": 4,
 "nbformat_minor": 2
}
