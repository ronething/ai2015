{
 "cells": [
  {
   "cell_type": "markdown",
   "metadata": {},
   "source": [
    "### 实验要求：应用k均值聚类算法，对给定的数据集进行聚类操作，打印聚类过程中的各个类的质心坐标。"
   ]
  },
  {
   "cell_type": "code",
   "execution_count": 2,
   "metadata": {},
   "outputs": [
    {
     "name": "stdout",
     "output_type": "stream",
     "text": [
      "[[-4.16672945  3.23953598]\n",
      " [-0.31268314 -4.18799396]\n",
      " [ 1.63950171  2.19103374]\n",
      " [ 1.49305964  0.59720743]]\n",
      "[[-2.64677572  2.78993217]\n",
      " [-1.07379018 -3.11623894]\n",
      " [ 2.225975    3.17026943]\n",
      " [ 3.50531338 -1.201807  ]]\n",
      "[[-2.46154315  2.78737555]\n",
      " [-3.01169468 -3.01238673]\n",
      " [ 2.54391447  3.21299611]\n",
      " [ 3.09814284 -2.43041226]]\n",
      "[[-2.46154315  2.78737555]\n",
      " [-3.38237045 -2.9473363 ]\n",
      " [ 2.6265299   3.10868015]\n",
      " [ 2.80293085 -2.7315146 ]]\n"
     ]
    }
   ],
   "source": [
    "# -*- coding: utf-8 -*-\n",
    "\"\"\"\n",
    "Created on Wed May  2 20:41:02 2018\n",
    "\n",
    "@author: Administrator\n",
    "\"\"\"\n",
    "\n",
    "import numpy as np\n",
    "\n",
    "def loadDataSet(filename):\n",
    "    fr = open(filename)\n",
    "    arrayOfLines = fr.readlines()\n",
    "    numberOfLines = len(arrayOfLines)\n",
    "    dataMat = np.zeros((numberOfLines,2))\n",
    "    index = 0\n",
    "    # 样本数据：1.658985\t4.285136\n",
    "    for line in arrayOfLines:\n",
    "        templine = line.strip().split('\\t')\n",
    "        dataMat[index,0] = float(templine[0])\n",
    "        dataMat[index,1] = float(templine[1])\n",
    "        index += 1\n",
    "    \n",
    "    return dataMat\n",
    "\n",
    "def distEclud(vecA,vecB):\n",
    "    return np.sqrt(np.sum(np.power(vecA-vecB,2)))\n",
    "\n",
    "def randCent(dataSet, k):\n",
    "    n = np.shape(dataSet)[1]\n",
    "    centroids = np.mat(np.zeros((k,n)))\n",
    "    for i in range(n):\n",
    "        minJ = np.min(dataSet[:,i]) \n",
    "        rangeJ = float(np.max(dataSet[:,i]) - minJ)\n",
    "        centroids[:,i] = minJ + rangeJ * np.random.rand(k,1)#random.rand()生成0-1的随机数\n",
    "    return centroids\n",
    "\n",
    "def kMeans(dataSet,k,distMeas=distEclud,createCent=randCent):\n",
    "    m = np.shape(dataSet)[0]\n",
    "    # 使用一个矩阵辅助记录，第一列保存所属质心下标，\n",
    "    # 第二列保存到该质心的距离的平方\n",
    "    clusterAssment = np.mat(np.zeros((m,2)))\n",
    "    centroids = createCent(dataSet,k)\n",
    "    clusterChanged = True\n",
    "    while clusterChanged:\n",
    "        clusterChanged = False\n",
    "        for i in range(m):\n",
    "            minDist = float('inf') #float('inf')代表正无穷\n",
    "            minIndex = -1\n",
    "            for j in range(k):\n",
    "                distJI = distMeas(centroids[j,:],dataSet[i,:])\n",
    "                if distJI < minDist:\n",
    "                    minDist = distJI\n",
    "                    minIndex = j\n",
    "            if clusterAssment[i,0] != minIndex:\n",
    "                clusterChanged = True\n",
    "            clusterAssment[i,:] = minIndex,minDist**2\n",
    "        print(centroids)\n",
    "        for temp in range(k):\n",
    "            ptsInClust = dataSet[np.nonzero(clusterAssment[:,0].A == temp)[0]] # .A 转化为数组\n",
    "            centroids[temp,:] = np.mean(ptsInClust,axis=0)\n",
    "            \n",
    "    return centroids,clusterAssment\n",
    "                \n",
    "if __name__==\"__main__\":\n",
    "    dataMat = np.mat(loadDataSet(\"./testSet.txt\"))\n",
    "    centroids,clusterAssment = kMeans(dataMat,4)\n",
    "                "
   ]
  }
 ],
 "metadata": {
  "kernelspec": {
   "display_name": "Python 3",
   "language": "python",
   "name": "python3"
  },
  "language_info": {
   "codemirror_mode": {
    "name": "ipython",
    "version": 3
   },
   "file_extension": ".py",
   "mimetype": "text/x-python",
   "name": "python",
   "nbconvert_exporter": "python",
   "pygments_lexer": "ipython3",
   "version": "3.6.4"
  }
 },
 "nbformat": 4,
 "nbformat_minor": 2
}
