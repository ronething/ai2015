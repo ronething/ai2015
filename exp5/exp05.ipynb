{
 "cells": [
  {
   "cell_type": "markdown",
   "metadata": {},
   "source": [
    "### 实验要求：实现决策树ID3算法，该算法在特征选择时使用的是信息增益。不要求对决策树进行剪枝。"
   ]
  },
  {
   "cell_type": "code",
   "execution_count": null,
   "metadata": {},
   "outputs": [],
   "source": [
    "#!/usr/bin/env python3\n",
    "# -*- coding: utf-8 -*-\n",
    "\"\"\"\n",
    "Created on Thu May  3 20:03:55 2018\n",
    "\n",
    "@author: ronething\n",
    "\"\"\"\n",
    "\n",
    "from math import log\n",
    "import operator\n"
   ]
  },
  {
   "cell_type": "code",
   "execution_count": null,
   "metadata": {},
   "outputs": [],
   "source": [
    "\"\"\"\n",
    "创建一个简单的数据集。这个数据集根据两个属性来判断一个海洋生物是否属于鱼类，\n",
    "第一个属性是不浮出水面是否可以生存，第二个属性是是否有鳍。数据集中的第三列是分类结果。\n",
    "\"\"\"\n",
    "def createDataSet():\n",
    "    dataSet = [[1, 1, 'yes'],\n",
    "      \t\t\t[1, 1, 'yes'],\n",
    "      \t\t\t[1, 0, 'no'],\n",
    "      \t\t\t[0, 1, 'no'],\n",
    "      \t\t\t[0, 1, 'no']]\n",
    "    labels = ['no surfacing','flippers']\n",
    "    \n",
    "    return dataSet,labels"
   ]
  },
  {
   "cell_type": "code",
   "execution_count": null,
   "metadata": {},
   "outputs": [],
   "source": [
    "# 编写函数计算熵\n",
    "def calcEntropy(dataSet):\n",
    "    numEntries = len(dataSet)\n",
    "    labelCounts = {}\n",
    "    for featVec in dataSet:\n",
    "        currentLabel = featVec[-1]\n",
    "        if currentLabel not in labelCounts.keys():\n",
    "            labelCounts[currentLabel] = 0\n",
    "        labelCounts[currentLabel] += 1\n",
    "    \n",
    "    entropy = 0.0\n",
    "    for key in labelCounts.keys():\n",
    "        pxi = float(labelCounts[key])/numEntries\n",
    "        entropy -= pxi*log(pxi,2)\n",
    "        \n",
    "    return entropy"
   ]
  },
  {
   "cell_type": "code",
   "execution_count": null,
   "metadata": {},
   "outputs": [],
   "source": [
    "# 实现按照给定特征划分数据集\n",
    "def splitDataSet(dataSet,axis,value):\n",
    "    returnDataSet = []\n",
    "    for featVec in dataSet:\n",
    "        if featVec[axis]==value:\n",
    "            reducedFeatVec = featVec[:axis]\n",
    "            reducedFeatVec.extend(featVec[axis+1:])\n",
    "            returnDataSet.append(reducedFeatVec)\n",
    "    \n",
    "    return returnDataSet"
   ]
  },
  {
   "cell_type": "code",
   "execution_count": null,
   "metadata": {},
   "outputs": [],
   "source": [
    "# 实现特征选择函数。遍历整个数据集，循环计算熵和splitDataSet()函数，\n",
    "# 找到最好的特征划分方式。\n",
    "def chooseBestFeatureToSplit(dataSet):\n",
    "    numFeatures = len(dataSet[0]) - 1 #获取属性个数\n",
    "    baseEntropy = calcEntropy(dataSet)\n",
    "    bestInfoGain = 0.0\n",
    "    bestFeature = -1\n",
    "    for i in range(numFeatures):\n",
    "        featList = [example[i] for example in dataSet] # 获取数据集中某一属性的所有取值\n",
    "        uniqueVals = set(featList) # 获取该属性所有不重复的取值\n",
    "        newEntropy = 0.0\n",
    "        for value in uniqueVals:\n",
    "            subDataSet = splitDataSet(dataSet,i,value)\n",
    "            pxi = len(subDataSet)/float(len(dataSet))\n",
    "            # 特征A对数据集D的信息增益公式实现\n",
    "            newEntropy += pxi*calcEntropy(subDataSet)\n",
    "        \n",
    "        infoGain = baseEntropy - newEntropy\n",
    "        if(infoGain>bestInfoGain):\n",
    "            bestInfoGain = infoGain\n",
    "            bestFeature = i\n",
    "    \n",
    "    return bestFeature"
   ]
  },
  {
   "cell_type": "code",
   "execution_count": null,
   "metadata": {},
   "outputs": [],
   "source": [
    "\"\"\"\n",
    "决策树创建过程中会采用递归的原则处理数据集。递归的终止条件为：程序遍历完所有划分数据集的属性；\n",
    "或者每一个分支下的所有实例都具有相同的分类。如果数据集已经处理了所有属性，\n",
    "但是类标签依然不是唯一的，此时我们需要决定如何定义该叶子节点，\n",
    "在这种情况下，通常会采用多数表决的方法决定分类\n",
    "\"\"\"\n",
    "def majorityCnt(classList):\n",
    "    classCount={}\n",
    "    for vote in classList:\n",
    "        if vote not in classCount.keys():\n",
    "            classCount[vote] = 0\n",
    "        classCount[vote] += 1\n",
    "    sortedClassCount = sorted(classCount.items(),\\\n",
    "                              key=operator.itemgetter(1),reverse=True)\n",
    "    \n",
    "    return sortedClassCount[0][0]"
   ]
  },
  {
   "cell_type": "code",
   "execution_count": null,
   "metadata": {},
   "outputs": [],
   "source": [
    "# 创建决策树\n",
    "def createTree(dataSet,labels):\n",
    "    classList = [example[-1] for example in dataSet] #获取类别列表\n",
    "    if classList.count(classList[0]) == len(classList):\n",
    "        return classList[0]\n",
    "    if len(dataSet[0]) == 1:\n",
    "        return majorityCnt(dataSet)\n",
    "    \n",
    "    bestFeat = chooseBestFeatureToSplit(dataSet)\n",
    "    bestFeatLabel = labels[bestFeat]\n",
    "    \n",
    "    myTree = {bestFeatLabel:{}}\n",
    "    \n",
    "    del(labels[bestFeat])\n",
    "    \n",
    "    featList = [example[bestFeat] for example in dataSet]\n",
    "    uniqueVals = set(featList)\n",
    "    for value in uniqueVals:\n",
    "        subLabel = labels[:]\n",
    "        myTree[bestFeatLabel][value] = createTree(splitDataSet(dataSet,bestFeat,value),subLabel)\n",
    "    \n",
    "    return myTree"
   ]
  },
  {
   "cell_type": "code",
   "execution_count": null,
   "metadata": {},
   "outputs": [],
   "source": [
    "# 利用构建好的决策树进行分类\n",
    "def classify(inputTree,featLabels,testVec):\n",
    "    firstStr = list(inputTree.keys())[0]\n",
    "    secondDict = inputTree[firstStr]\n",
    "    featIndex = featLabels.index(firstStr)\n",
    "    for key in secondDict.keys():\n",
    "        if testVec[featIndex] == key:\n",
    "            if type(secondDict[key]).__name__ == 'dict':\n",
    "                classLabel = classify(secondDict[key],featLabels,testVec)\n",
    "            else:\n",
    "                classLabel = secondDict[key]\n",
    "    return classLabel"
   ]
  },
  {
   "cell_type": "code",
   "execution_count": 3,
   "metadata": {},
   "outputs": [
    {
     "name": "stdout",
     "output_type": "stream",
     "text": [
      "no\n",
      "yes\n"
     ]
    }
   ],
   "source": [
    "# 测试\n",
    "if __name__==\"__main__\":\n",
    "    data,labels = createDataSet()\n",
    "    templabels = labels[:]\n",
    "    # 这里很神奇 如果用labels传入createTree方法 最后labels会被删除'no surfacing' key 值\n",
    "    # 如果你知道记得告诉我\n",
    "    myTree = createTree(data,templabels)\n",
    "    print(classify(myTree,labels,[1,0]))\n",
    "    print(classify(myTree,labels,[1,1]))"
   ]
  }
 ],
 "metadata": {
  "kernelspec": {
   "display_name": "Python 3",
   "language": "python",
   "name": "python3"
  },
  "language_info": {
   "codemirror_mode": {
    "name": "ipython",
    "version": 3
   },
   "file_extension": ".py",
   "mimetype": "text/x-python",
   "name": "python",
   "nbconvert_exporter": "python",
   "pygments_lexer": "ipython3",
   "version": "3.6.4"
  }
 },
 "nbformat": 4,
 "nbformat_minor": 2
}
